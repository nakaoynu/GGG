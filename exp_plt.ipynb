{
 "cells": [
  {
   "cell_type": "code",
   "execution_count": null,
   "id": "10fad8ad-c74b-4d01-97ae-f9ae8283fcad",
   "metadata": {},
   "outputs": [
    {
     "name": "stdout",
     "output_type": "stream",
     "text": [
      "実験データを読み込みます...\n",
      "データの読み込み中にエラーが発生しました: Missing optional dependency 'openpyxl'.  Use pip or conda to install openpyxl.\n"
     ]
    },
    {
     "ename": "NameError",
     "evalue": "name 'df' is not defined",
     "output_type": "error",
     "traceback": [
      "\u001b[1;31m---------------------------------------------------------------------------\u001b[0m",
      "\u001b[1;31mNameError\u001b[0m                                 Traceback (most recent call last)",
      "Cell \u001b[1;32mIn[1], line 33\u001b[0m\n\u001b[0;32m     30\u001b[0m     \u001b[38;5;28mprint\u001b[39m(\u001b[38;5;124mf\u001b[39m\u001b[38;5;124m\"\u001b[39m\u001b[38;5;124mデータの読み込み中にエラーが発生しました: \u001b[39m\u001b[38;5;132;01m{\u001b[39;00me\u001b[38;5;132;01m}\u001b[39;00m\u001b[38;5;124m\"\u001b[39m)\n\u001b[0;32m     31\u001b[0m     exit()\n\u001b[1;32m---> 33\u001b[0m \u001b[38;5;28mprint\u001b[39m(\u001b[43mdf\u001b[49m)\n\u001b[0;32m     34\u001b[0m \u001b[38;5;28mprint\u001b[39m(\u001b[38;5;124m'\u001b[39m\u001b[38;5;124m-\u001b[39m\u001b[38;5;124m'\u001b[39m \u001b[38;5;241m*\u001b[39m \u001b[38;5;241m30\u001b[39m)\n\u001b[0;32m     36\u001b[0m \u001b[38;5;66;03m# a) ピーク（極大値）の検出\u001b[39;00m\n",
      "\u001b[1;31mNameError\u001b[0m: name 'df' is not defined"
     ]
    },
    {
     "ename": "",
     "evalue": "",
     "output_type": "error",
     "traceback": [
      "\u001b[1;31m現在のセルまたは前のセルでコードを実行中に、カーネル (Kernel) がクラッシュしました。\n",
      "\u001b[1;31mエラーの原因を特定するには、セル内のコードを確認してください。\n",
      "\u001b[1;31m詳細については<a href='https://aka.ms/vscodeJupyterKernelCrash'>こちら</a>をクリックします。\n",
      "\u001b[1;31m詳細については、Jupyter <a href='command:jupyter.viewOutput'>ログ</a> を参照してください。"
     ]
    }
   ],
   "source": [
    "import numpy as np\n",
    "import pandas as pd\n",
    "import matplotlib.pyplot as plt\n",
    "from scipy.signal import find_peaks\n",
    "\n",
    "# --- 0. プロット設定 ---\n",
    "plt.rcParams['font.family'] = \"Meiryo\"\n",
    "plt.rcParams['figure.dpi'] = 100\n",
    "\n",
    "\n",
    "# --- 2. データの読み込みと準備 ---\n",
    "print(\"実験データを読み込みます...\")\n",
    "file_path = \"Circular_Polarization_B_Field.xlsx\"\n",
    "sheet_name = \"Sheet2\"\n",
    "# pandasを使ってExcelファイルからデータを読み込む\n",
    "# ファイル名を適宜確認・変更してください\n",
    "try:\n",
    "    df = pd.read_excel(file_path, sheet_name=sheet_name, header=0, names=['Frequency (THz)', 'Transmittance'])\n",
    "    # A列とB列をそれぞれx, yとして読み込む\n",
    "   #exp_freq_thz = df.iloc[1:, 0].values\n",
    "   #exp_transmittance = df.iloc[1:, 1].values\n",
    "    exp_freq_thz = df['Frequency (THz)'].to_numpy(dtype=float)\n",
    "    exp_transmittance = df['Transmittance (7.7T)'].to_numpy(dtype=float)\n",
    "    print(f\"データの読み込みに成功しました。読み込み件数: {len(df)}件\")\n",
    "except FileNotFoundError:\n",
    "    print(f\"エラー: ファイルが見つかりません。パスを確認してください。\\nパス: {file_path}\")\n",
    "    exit()\n",
    "except Exception as e:\n",
    "    # その他のエラー（例：シート名が違うなど）もキャッチ\n",
    "    print(f\"データの読み込み中にエラーが発生しました: {e}\")\n",
    "    exit()\n",
    "\n",
    "print(df)\n",
    "print('-' * 30)\n",
    "\n",
    "# a) ピーク（極大値）の検出\n",
    "peak_indicates_all, _ = find_peaks(exp_transmittance, prominence=1e-4)\n",
    "\n",
    "peak_data_all = df.iloc[peak_indicates_all]\n",
    "\n",
    "print(\"\\n--- 検出されたピーク ---\")\n",
    "print(peak_data_all)\n",
    "print(\"-\" * 30) \n",
    "\n",
    "# b) バレー（極小値）の検出\n",
    "# ★★★ データを反転させて、そのピークを探す ★★★\n",
    "y_inverted_all = -exp_transmittance\n",
    "valley_indices_all, _ = find_peaks(y_inverted_all, prominence=1e-4)\n",
    "valley_data_all = df.iloc[valley_indices_all]\n",
    "print(\"\\n--- 検出されたバレー（谷）---\")\n",
    "print(valley_data_all)\n",
    "\n",
    "# --- 3. 結果の可視化 ---\n",
    "fig, ax = plt.subplots(figsize=(10, 6))\n",
    "\n",
    "# 元のデータをプロット\n",
    "ax.plot(exp_freq_thz, exp_transmittance, 'o', color='blue', markersize=4, label='実験データ')\n",
    "\n",
    "\n",
    "# 検出されたピークをプロット\n",
    "ax.plot(peak_data_all['Frequency (THz)'], peak_data_all['Transmittance'], \n",
    "        'x', color='red', markersize=10, label='検出されたピーク')\n",
    "\n",
    "# 検出されたバレーをプロット\n",
    "ax.plot(valley_data_all['Frequency (THz)'], valley_data_all['Transmittance'], \n",
    "        'v', color='green', markersize=10, label='バレー（谷）', zorder=2)\n",
    "\n",
    "\n",
    "ax.set_xlabel('周波数 (THz)')\n",
    "ax.set_ylabel('透過率 ')\n",
    "ax.set_title('実験結果')\n",
    "ax.legend()\n",
    "ax.grid(True)\n",
    "plt.tight_layout()\n",
    "plt.show()\n",
    "plt.close()"
   ]
  },
  {
   "cell_type": "code",
   "execution_count": null,
   "metadata": {},
   "outputs": [],
   "source": [
    "# 高次周波数(j次)に基づく膜厚の手計算\n",
    "def calculate_thickness_from_peaks(j, peak_freqs):\n",
    "    c = 299792458  # 光速 (m/s)\n",
    "    n = 3.8 # 屈折率\n",
    "    # ピーク周波数をTHzからHzに変換\n",
    "    peak_freqs = peak_freqs * 1e12  # THz to Hz\n",
    "    # ピーク周波数から膜厚を計算\n",
    "    d_calculated = j * (c / (2 * n)) / peak_freqs\n",
    "    d_calculated = d_calculated * 1e6  # m to μm \n",
    "    return d_calculated"
   ]
  },
  {
   "cell_type": "code",
   "execution_count": null,
   "metadata": {},
   "outputs": [
    {
     "name": "stdout",
     "output_type": "stream",
     "text": [
      "2次周波数に基づく膜厚の計算結果: 149.531μm\n",
      "3次周波数に基づく膜厚の計算結果: 151.400μm\n",
      "\n",
      "平均膜厚: 150.466μm\n"
     ]
    }
   ],
   "source": [
    "d_calculated = []\n",
    "# ピーク周波数から膜厚を計算\n",
    "for j in range(2, 4): \n",
    "\tthickness = calculate_thickness_from_peaks(j, peak_data_all['Frequency (THz)'].iloc[j])\n",
    "\td_calculated.append(thickness)\n",
    "\tprint(f\"{j}次周波数に基づく膜厚の計算結果: {thickness:.3f}μm\")\n",
    "\n",
    "d_average = np.mean(d_calculated)\n",
    "print(f\"\\n平均膜厚: {d_average:.3f}μm\")"
   ]
  },
  {
   "cell_type": "code",
   "execution_count": 24,
   "metadata": {},
   "outputs": [
    {
     "name": "stdout",
     "output_type": "stream",
     "text": [
      "\n",
      "背景誘電率: 14.44\n"
     ]
    }
   ],
   "source": [
    "eps_bg = 3.8**2\n",
    "print(f\"\\n背景誘電率: {eps_bg}\")"
   ]
  },
  {
   "cell_type": "code",
   "execution_count": null,
   "metadata": {},
   "outputs": [],
   "source": []
  },
  {
   "cell_type": "code",
   "execution_count": 34,
   "metadata": {},
   "outputs": [
    {
     "name": "stdout",
     "output_type": "stream",
     "text": [
      "フィルタリング後のデータ件数: 31件\n",
      "    Frequency (THz)  Transmittance\n",
      "0          0.151441       0.035827\n",
      "1          0.156326       0.036052\n",
      "2          0.161212       0.034048\n",
      "3          0.166097       0.030120\n",
      "4          0.170982       0.024924\n",
      "5          0.175867       0.019221\n",
      "6          0.180752       0.013692\n",
      "7          0.185638       0.008859\n",
      "8          0.190523       0.005048\n",
      "9          0.195408       0.002398\n",
      "10         0.200293       0.000876\n",
      "11         0.205178       0.000304\n",
      "12         0.210064       0.000403\n",
      "13         0.214949       0.000875\n",
      "14         0.219834       0.001483\n",
      "15         0.224719       0.002137\n",
      "16         0.229604       0.002905\n",
      "17         0.234489       0.003986\n",
      "18         0.239375       0.005637\n",
      "19         0.244260       0.008101\n",
      "20         0.249145       0.011555\n",
      "21         0.254030       0.016071\n",
      "22         0.258915       0.021591\n",
      "23         0.263801       0.027909\n",
      "24         0.268686       0.034665\n",
      "25         0.273571       0.041360\n",
      "26         0.278456       0.047420\n",
      "27         0.283341       0.052290\n",
      "28         0.288227       0.055539\n",
      "29         0.293112       0.056956\n",
      "30         0.297997       0.056571\n"
     ]
    }
   ],
   "source": [
    "# --- 2. データのフィルタリング ---\n",
    "# 周波数が0.4 THz以下のデータのみを抽出\n",
    "df_filtered = df[df['Frequency (THz)'] <= 0.3].copy()\n",
    "print(f\"フィルタリング後のデータ件数: {len(df_filtered)}件\")\n",
    "\n",
    "# フィルタリングしたデータをNumPy配列として取得\n",
    "exp_freq_filtered = df_filtered['Frequency (THz)'].to_numpy(dtype=float)\n",
    "exp_transmittance_filtered = df_filtered['Transmittance'].to_numpy(dtype=float)\n",
    "\n",
    "print(df_filtered)"
   ]
  },
  {
   "cell_type": "code",
   "execution_count": 32,
   "metadata": {},
   "outputs": [
    {
     "name": "stdout",
     "output_type": "stream",
     "text": [
      "--- 検出されたピーク ---\n",
      "    Frequency (THz)  Transmittance\n",
      "1          0.156326       0.036052\n",
      "29         0.293112       0.056956\n",
      "------------------------------\n",
      "ピーク位置（周波数）の平均値: 0.2247 THz\n",
      "\n",
      "--- 検出されたバレー（谷）---\n",
      "    Frequency (THz)  Transmittance\n",
      "11         0.205178       0.000304\n",
      "\n",
      " 共振器モードの誤差：9.5238 %\n"
     ]
    },
    {
     "data": {
      "image/png": "[encoded data removed]",
      "text/plain": [
       "<Figure size 1000x600 with 1 Axes>"
      ]
     },
     "metadata": {},
     "output_type": "display_data"
    }
   ],
   "source": [
    "from scipy.signal import find_peaks\n",
    "# a) ピーク（極大値）の検出\n",
    "peak_indicates, properties = find_peaks(exp_transmittance_filtered, prominence=1e-4)\n",
    "\n",
    "peak_data = df_filtered.iloc[peak_indicates]\n",
    "\n",
    "print(\"--- 検出されたピーク ---\")\n",
    "print(peak_data)\n",
    "print(\"-\" * 30) \n",
    "\n",
    "# まず、ピークが1つ以上見つかっているかを確認\n",
    "if not peak_data.empty:\n",
    "    # 'Transmittance'列の平均値を取得\n",
    "    avarage_peak_transmittance = peak_data[\"Transmittance\"].mean()\n",
    "\n",
    "    # 'Frequency (THz)' 列の平均値を計算\n",
    "    average_peak_frequency = peak_data['Frequency (THz)'].mean()\n",
    "    print(f\"ピーク位置（周波数）の平均値: {average_peak_frequency:.4f} THz\")\n",
    "else:\n",
    "    print(\"ピークが見つからなかったため、平均値は計算できません。\")\n",
    "\n",
    "# b) バレー（極小値）の検出\n",
    "# ★★★ データを反転させて、そのピークを探す ★★★\n",
    "y_inverted = -exp_transmittance_filtered\n",
    "valley_indices, _ = find_peaks(y_inverted, prominence=1e-4)\n",
    "valley_data = df_filtered.iloc[valley_indices]\n",
    "valley_frequency = valley_data['Frequency (THz)'].min()\n",
    "delta_cavity_mode = np.abs(average_peak_frequency - valley_frequency) / valley_frequency * 100\n",
    "print(\"\\n--- 検出されたバレー（谷）---\")\n",
    "print(valley_data)\n",
    "print(\n",
    "    f\"\\n 共振器モードの誤差：{delta_cavity_mode:.4f} %\"\n",
    ")\n",
    "\n",
    "# --- 3. 結果の可視化 ---\n",
    "fig, ax = plt.subplots(figsize=(10, 6))\n",
    "\n",
    "# 元のデータをプロット\n",
    "ax.plot(exp_freq_filtered, exp_transmittance_filtered, 'o', color='blue', markersize=4, label='実験データ (≤ 0.4 THz)')\n",
    "\n",
    "# 検出されたピークをプロット\n",
    "ax.plot(peak_data['Frequency (THz)'], peak_data['Transmittance'], \n",
    "        'x', color='red', markersize=10, label='検出されたピーク')\n",
    "\n",
    "# 検出されたバレーをプロット\n",
    "ax.plot(valley_data['Frequency (THz)'], valley_data['Transmittance'], \n",
    "        'v', color='green', markersize=10, label='バレー（谷）', zorder=2)\n",
    "\n",
    "# 理論的な共振器モードをプロット\n",
    "ax.axvline(\n",
    "    x=average_peak_frequency,\n",
    "    color='red',\n",
    "    linestyle=':',\n",
    "    linewidth=2,\n",
    "    label='ピーク位置に基づく共振器モードの計算値'\n",
    ")\n",
    "\n",
    "# 共振器モードの設計値をプロット\n",
    "ax.axvline(\n",
    "    x=0.25,\n",
    "    color='black',\n",
    "    linestyle=':',\n",
    "    linewidth=2,\n",
    "    label='共振器モードの設計値 0.25 THz'\n",
    ")\n",
    "\n",
    "# グラフの装飾\n",
    "ax.set_xlabel('周波数 (THz)')\n",
    "ax.set_ylabel('透過率')\n",
    "ax.set_title('find_peaksによるピーク検出')\n",
    "ax.legend()\n",
    "ax.grid(True)\n",
    "plt.tight_layout()\n",
    "plt.show()"
   ]
  }
 ],
 "metadata": {
  "kernelspec": {
   "display_name": "Python (Bayes)",
   "language": "python",
   "name": "bayes"
  },
  "language_info": {
   "codemirror_mode": {
    "name": "ipython",
    "version": 3
   },
   "file_extension": ".py",
   "mimetype": "text/x-python",
   "name": "python",
   "nbconvert_exporter": "python",
   "pygments_lexer": "ipython3",
   "version": "3.12.3"
  }
 },
 "nbformat": 4,
 "nbformat_minor": 2
}
